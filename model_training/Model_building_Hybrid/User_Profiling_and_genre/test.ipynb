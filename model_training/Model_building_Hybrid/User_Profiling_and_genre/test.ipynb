{
 "cells": [
  {
   "cell_type": "code",
   "execution_count": 2,
   "metadata": {},
   "outputs": [],
   "source": []
  },
  {
   "cell_type": "code",
   "execution_count": 5,
   "metadata": {},
   "outputs": [],
   "source": []
  },
  {
   "cell_type": "code",
   "execution_count": 18,
   "metadata": {},
   "outputs": [
    {
     "data": {
      "text/plain": [
       "'Harry Potter and the Order of the Phoenix'"
      ]
     },
     "execution_count": 18,
     "metadata": {},
     "output_type": "execute_result"
    }
   ],
   "source": [
    "'Harry Potter and the Order of the Phoenix'"
   ]
  },
  {
   "cell_type": "code",
   "execution_count": 19,
   "metadata": {},
   "outputs": [],
   "source": []
  },
  {
   "cell_type": "code",
   "execution_count": null,
   "metadata": {},
   "outputs": [],
   "source": []
  },
  {
   "cell_type": "code",
   "execution_count": 23,
   "metadata": {},
   "outputs": [],
   "source": []
  },
  {
   "cell_type": "code",
   "execution_count": 44,
   "metadata": {},
   "outputs": [],
   "source": []
  },
  {
   "cell_type": "code",
   "execution_count": 26,
   "metadata": {},
   "outputs": [],
   "source": [
    "#Example usage:\n",
    "import user_profiling\n",
    "import os\n",
    "import pandas as pd\n",
    "\n",
    "def get_recommendation(user_id=None,book_title=None,top_n=10):\n",
    "\n",
    "    if user_id and book_title:\n",
    "        print('cannot have both user_id and book_title')\n",
    "        exit(1)\n",
    "    profiling=user_profiling.UserProfiling()\n",
    "\n",
    "\n",
    "    if not os.path.exists('profiles.pkl'):\n",
    "        profiling.create_profiles()\n",
    "\n",
    "    df=pd.read_csv('book_names_final.csv')\n",
    "\n",
    "\n",
    "    if book_title.lower()=='yes':\n",
    "        book_title_input=input('Enter Title of the book:\\n')\n",
    "        book_id=df[df.book_title==book_title_input].book_id\n",
    "        if book_id.empty:\n",
    "            print('Book not found')\n",
    "        else:\n",
    "            book_id=book_id.iloc[0]\n",
    "\n",
    "    else:\n",
    "        book_id=None\n",
    "\n",
    "    \n",
    "\n",
    "    recommendations, scores = profiling.recommend_books(user_id,book_id,top_n=20)\n",
    "    if recommendations is None:\n",
    "        return print('no recommendations found')\n",
    "    titles=[]\n",
    "    \n",
    "    for i in list(recommendations):\n",
    "        titles.append(df[df.book_id==i].book_title.values[0])\n",
    "    d=pd.DataFrame({'book_title':titles,'similarity_score':scores})\n",
    "    print(d)\n",
    "\n",
    "def main():\n",
    "    get_recommendation(user_id=19300421,book_title='no',top_n=10)\n",
    "    \n"
   ]
  },
  {
   "cell_type": "code",
   "execution_count": 27,
   "metadata": {},
   "outputs": [
    {
     "name": "stdout",
     "output_type": "stream",
     "text": [
      "cannot have both user_id and book_title\n",
      "                                           book_title  similarity_score\n",
      "0   Things as They are, or, The Adventures of Cale...          0.665300\n",
      "1                                      My Son, My Son          0.663946\n",
      "2                                Lady Audley's Secret          0.657721\n",
      "3            The Castle of Wolfenbach: A German Story          0.652745\n",
      "4                                  The Woman in Black          0.645456\n",
      "5                             Kiss Me Again, Stranger          0.642245\n",
      "6                              Prelude to Christopher          0.633072\n",
      "7                                         Brat Farrar          0.632303\n",
      "8                                       The Moonstone          0.630972\n",
      "9                                       Little Dorrit          0.628718\n",
      "10                                     Daniel Deronda          0.628718\n",
      "11                                  Barchester Towers          0.628718\n",
      "12                                        Bleak House          0.628718\n",
      "13                             The Old Curiosity Shop          0.628718\n",
      "14                                  Nicholas Nickleby          0.628718\n",
      "15                              The Mill on the Floss          0.628718\n",
      "16                                  Our Mutual Friend          0.628718\n",
      "17                                     Dombey and Son          0.628718\n",
      "18                                  Martin Chuzzlewit          0.628718\n",
      "19                           The Cry and the Covenant          0.626463\n"
     ]
    }
   ],
   "source": [
    "main()"
   ]
  },
  {
   "cell_type": "code",
   "execution_count": 43,
   "metadata": {},
   "outputs": [
    {
     "data": {
      "text/plain": [
       "['Harry Potter and the Order of the Phoenix',\n",
       " 'Harry Potter and the Half-Blood Prince',\n",
       " 'Harry Potter and the Deathly Hallows',\n",
       " 'Charlie Bone and the Time Twister',\n",
       " 'Syren',\n",
       " 'Inkdeath',\n",
       " 'A World Without Heroes',\n",
       " 'Grip of the Shadow Plague',\n",
       " 'Seeds of Rebellion',\n",
       " 'Inkspell',\n",
       " 'Stargazer',\n",
       " 'Peter Nimble and His Fantastic Eyes',\n",
       " 'The Key to Rondo',\n",
       " 'Keys to the Demon Prison',\n",
       " 'The Lives of Christopher Chant',\n",
       " 'The Candy Shop War',\n",
       " 'Chasing the Prophecy',\n",
       " 'Savvy',\n",
       " 'Leven Thumps and the Gateway to Foo',\n",
       " 'Midnight for Charlie Bone']"
      ]
     },
     "execution_count": 43,
     "metadata": {},
     "output_type": "execute_result"
    }
   ],
   "source": []
  },
  {
   "cell_type": "code",
   "execution_count": null,
   "metadata": {},
   "outputs": [],
   "source": []
  }
 ],
 "metadata": {
  "kernelspec": {
   "display_name": "Book_recommendation.venv",
   "language": "python",
   "name": "python3"
  },
  "language_info": {
   "codemirror_mode": {
    "name": "ipython",
    "version": 3
   },
   "file_extension": ".py",
   "mimetype": "text/x-python",
   "name": "python",
   "nbconvert_exporter": "python",
   "pygments_lexer": "ipython3",
   "version": "3.10.12"
  }
 },
 "nbformat": 4,
 "nbformat_minor": 2
}
