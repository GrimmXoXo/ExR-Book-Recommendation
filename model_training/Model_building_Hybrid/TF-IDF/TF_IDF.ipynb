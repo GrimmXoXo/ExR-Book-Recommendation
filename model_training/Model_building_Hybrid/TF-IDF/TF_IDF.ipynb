{
 "cells": [
  {
   "cell_type": "code",
   "execution_count": 51,
   "metadata": {},
   "outputs": [],
   "source": [
    "from Tf_IDF_cosine import get_recommendations"
   ]
  },
  {
   "cell_type": "code",
   "execution_count": 52,
   "metadata": {},
   "outputs": [],
   "source": [
    "recommendations,score=get_recommendations('The Runes of the Earth')"
   ]
  }
 ],
 "metadata": {
  "kernelspec": {
   "display_name": "Book_recommendation.venv",
   "language": "python",
   "name": "python3"
  },
  "language_info": {
   "codemirror_mode": {
    "name": "ipython",
    "version": 3
   },
   "file_extension": ".py",
   "mimetype": "text/x-python",
   "name": "python",
   "nbconvert_exporter": "python",
   "pygments_lexer": "ipython3",
   "version": "3.10.12"
  }
 },
 "nbformat": 4,
 "nbformat_minor": 2
}
